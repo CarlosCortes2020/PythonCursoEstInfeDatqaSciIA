{
 "cells": [
  {
   "cell_type": "markdown",
   "id": "6d5a73ce",
   "metadata": {},
   "source": [
    "### Importamos las librerias necesarias para el proyecto"
   ]
  },
  {
   "cell_type": "code",
   "execution_count": 2,
   "id": "54b3da22",
   "metadata": {},
   "outputs": [],
   "source": [
    "import pandas as pd\n",
    "import numpy as np\n",
    "import seaborn as sns\n",
    "import scipy.stats as st\n",
    "\n"
   ]
  },
  {
   "cell_type": "markdown",
   "id": "5160904a",
   "metadata": {},
   "source": [
    "### Esta practica la haremos sobre una distribucion creada por nosotros"
   ]
  },
  {
   "cell_type": "code",
   "execution_count": 3,
   "id": "5e181030",
   "metadata": {},
   "outputs": [],
   "source": [
    "np.random.seed(20)\n",
    "var1 = np.random.randint(0,10,10) #Dias de vacaciones\n",
    "var2 = var1 + np.random.normal(0,1,10) #Dinero gastado en vacaciones\n"
   ]
  },
  {
   "cell_type": "code",
   "execution_count": 4,
   "id": "d425c983",
   "metadata": {},
   "outputs": [
    {
     "data": {
      "text/plain": [
       "(array([3, 9, 4, 6, 7, 2, 0, 6, 8, 5]),\n",
       " array([1.91516741, 9.55969629, 4.93946935, 5.02151896, 7.50309684,\n",
       "        2.40641447, 0.32346101, 5.50658912, 7.20798321, 4.15763207]))"
      ]
     },
     "execution_count": 4,
     "metadata": {},
     "output_type": "execute_result"
    }
   ],
   "source": [
    "var1, var2"
   ]
  },
  {
   "cell_type": "markdown",
   "id": "408eafcd",
   "metadata": {},
   "source": [
    "### Visualizacion de resultados con un IC del 80%"
   ]
  },
  {
   "cell_type": "code",
   "execution_count": 9,
   "id": "9e969ccb",
   "metadata": {},
   "outputs": [
    {
     "data": {
      "text/plain": [
       "<Axes: >"
      ]
     },
     "execution_count": 9,
     "metadata": {},
     "output_type": "execute_result"
    },
    {
     "data": {
      "image/png": "[encoded data removed]",
      "text/plain": [
       "<Figure size 640x480 with 1 Axes>"
      ]
     },
     "metadata": {},
     "output_type": "display_data"
    }
   ],
   "source": [
    "grafico = sns.regplot(x=var1, y=var2, ci=80)\n",
    "grafico"
   ]
  },
  {
   "cell_type": "code",
   "execution_count": 11,
   "id": "28a784f9",
   "metadata": {},
   "outputs": [
    {
     "data": {
      "text/plain": [
       "((np.int64(3), np.float64(1.9151674126826672)),\n",
       " (np.int64(9), np.float64(9.559696289403918)),\n",
       " (np.int64(4), np.float64(4.939469349856077)),\n",
       " (np.int64(6), np.float64(5.021518957881304)),\n",
       " (np.int64(7), np.float64(7.503096840109191)),\n",
       " (np.int64(2), np.float64(2.406414468894801)),\n",
       " (np.int64(0), np.float64(0.3234610099156434)),\n",
       " (np.int64(6), np.float64(5.50658911809112)),\n",
       " (np.int64(8), np.float64(7.207983209222818)),\n",
       " (np.int64(5), np.float64(4.157632065861516)))"
      ]
     },
     "execution_count": 11,
     "metadata": {},
     "output_type": "execute_result"
    }
   ],
   "source": [
    "tuple = tuple(zip(var1, var2))\n",
    "tuple"
   ]
  },
  {
   "cell_type": "code",
   "execution_count": 13,
   "id": "21bbad16",
   "metadata": {},
   "outputs": [
    {
     "data": {
      "text/html": [
       "<div>\n",
       "<style scoped>\n",
       "    .dataframe tbody tr th:only-of-type {\n",
       "        vertical-align: middle;\n",
       "    }\n",
       "\n",
       "    .dataframe tbody tr th {\n",
       "        vertical-align: top;\n",
       "    }\n",
       "\n",
       "    .dataframe thead th {\n",
       "        text-align: right;\n",
       "    }\n",
       "</style>\n",
       "<table border=\"1\" class=\"dataframe\">\n",
       "  <thead>\n",
       "    <tr style=\"text-align: right;\">\n",
       "      <th></th>\n",
       "      <th>DiasVacaciones</th>\n",
       "      <th>DineroGastado</th>\n",
       "    </tr>\n",
       "  </thead>\n",
       "  <tbody>\n",
       "    <tr>\n",
       "      <th>0</th>\n",
       "      <td>3</td>\n",
       "      <td>1.915167</td>\n",
       "    </tr>\n",
       "    <tr>\n",
       "      <th>1</th>\n",
       "      <td>9</td>\n",
       "      <td>9.559696</td>\n",
       "    </tr>\n",
       "    <tr>\n",
       "      <th>2</th>\n",
       "      <td>4</td>\n",
       "      <td>4.939469</td>\n",
       "    </tr>\n",
       "    <tr>\n",
       "      <th>3</th>\n",
       "      <td>6</td>\n",
       "      <td>5.021519</td>\n",
       "    </tr>\n",
       "    <tr>\n",
       "      <th>4</th>\n",
       "      <td>7</td>\n",
       "      <td>7.503097</td>\n",
       "    </tr>\n",
       "  </tbody>\n",
       "</table>\n",
       "</div>"
      ],
      "text/plain": [
       "   DiasVacaciones  DineroGastado\n",
       "0               3       1.915167\n",
       "1               9       9.559696\n",
       "2               4       4.939469\n",
       "3               6       5.021519\n",
       "4               7       7.503097"
      ]
     },
     "execution_count": 13,
     "metadata": {},
     "output_type": "execute_result"
    }
   ],
   "source": [
    "tabla = pd.DataFrame(tuple, columns=['DiasVacaciones', 'DineroGastado'])\n",
    "tabla.head()"
   ]
  },
  {
   "cell_type": "code",
   "execution_count": 21,
   "id": "05138570",
   "metadata": {},
   "outputs": [
    {
     "data": {
      "text/plain": [
       "(array([2.93201634, 2.92062172]), array([6.92208653, 6.93348116]))"
      ]
     },
     "execution_count": 21,
     "metadata": {},
     "output_type": "execute_result"
    }
   ],
   "source": [
    "#95% de confianza\n",
    "st.t.interval(confidence=0.95, df=len(tabla)-1, loc=np.mean(tabla), scale=st.sem(tabla))"
   ]
  }
 ],
 "metadata": {
  "kernelspec": {
   "display_name": "CursoEstInfeDataSciIA",
   "language": "python",
   "name": "python3"
  },
  "language_info": {
   "codemirror_mode": {
    "name": "ipython",
    "version": 3
   },
   "file_extension": ".py",
   "mimetype": "text/x-python",
   "name": "python",
   "nbconvert_exporter": "python",
   "pygments_lexer": "ipython3",
   "version": "3.13.5"
  }
 },
 "nbformat": 4,
 "nbformat_minor": 5
}
