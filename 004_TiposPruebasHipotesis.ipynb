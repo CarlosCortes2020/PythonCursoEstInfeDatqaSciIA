{
 "cells": [
  {
   "cell_type": "markdown",
   "id": "9a8ae4c5",
   "metadata": {},
   "source": [
    "### Importar las librerias necesarias para el analisis"
   ]
  },
  {
   "cell_type": "code",
   "execution_count": 5,
   "id": "bc4ce05a",
   "metadata": {},
   "outputs": [],
   "source": [
    "import pandas as pd\n",
    "import numpy as np\n",
    "import seaborn as sns\n",
    "import scipy.stats as st\n",
    "from scipy.stats import f_oneway\n",
    "from scipy.stats import ttest_ind\n"
   ]
  },
  {
   "cell_type": "markdown",
   "id": "0af237e5",
   "metadata": {},
   "source": [
    "### De nuevo usaremos la base de datos Iris"
   ]
  },
  {
   "cell_type": "code",
   "execution_count": 6,
   "id": "76e5964d",
   "metadata": {},
   "outputs": [
    {
     "data": {
      "text/html": [
       "<div>\n",
       "<style scoped>\n",
       "    .dataframe tbody tr th:only-of-type {\n",
       "        vertical-align: middle;\n",
       "    }\n",
       "\n",
       "    .dataframe tbody tr th {\n",
       "        vertical-align: top;\n",
       "    }\n",
       "\n",
       "    .dataframe thead th {\n",
       "        text-align: right;\n",
       "    }\n",
       "</style>\n",
       "<table border=\"1\" class=\"dataframe\">\n",
       "  <thead>\n",
       "    <tr style=\"text-align: right;\">\n",
       "      <th></th>\n",
       "      <th>sepal-length</th>\n",
       "      <th>sepal-width</th>\n",
       "      <th>petal-length</th>\n",
       "      <th>petal-width</th>\n",
       "      <th>class</th>\n",
       "    </tr>\n",
       "  </thead>\n",
       "  <tbody>\n",
       "    <tr>\n",
       "      <th>0</th>\n",
       "      <td>5.1</td>\n",
       "      <td>3.5</td>\n",
       "      <td>1.4</td>\n",
       "      <td>0.2</td>\n",
       "      <td>Iris-setosa</td>\n",
       "    </tr>\n",
       "    <tr>\n",
       "      <th>1</th>\n",
       "      <td>4.9</td>\n",
       "      <td>3.0</td>\n",
       "      <td>1.4</td>\n",
       "      <td>0.2</td>\n",
       "      <td>Iris-setosa</td>\n",
       "    </tr>\n",
       "    <tr>\n",
       "      <th>2</th>\n",
       "      <td>4.7</td>\n",
       "      <td>3.2</td>\n",
       "      <td>1.3</td>\n",
       "      <td>0.2</td>\n",
       "      <td>Iris-setosa</td>\n",
       "    </tr>\n",
       "    <tr>\n",
       "      <th>3</th>\n",
       "      <td>4.6</td>\n",
       "      <td>3.1</td>\n",
       "      <td>1.5</td>\n",
       "      <td>0.2</td>\n",
       "      <td>Iris-setosa</td>\n",
       "    </tr>\n",
       "    <tr>\n",
       "      <th>4</th>\n",
       "      <td>5.0</td>\n",
       "      <td>3.6</td>\n",
       "      <td>1.4</td>\n",
       "      <td>0.2</td>\n",
       "      <td>Iris-setosa</td>\n",
       "    </tr>\n",
       "  </tbody>\n",
       "</table>\n",
       "</div>"
      ],
      "text/plain": [
       "   sepal-length  sepal-width  petal-length  petal-width        class\n",
       "0           5.1          3.5           1.4          0.2  Iris-setosa\n",
       "1           4.9          3.0           1.4          0.2  Iris-setosa\n",
       "2           4.7          3.2           1.3          0.2  Iris-setosa\n",
       "3           4.6          3.1           1.5          0.2  Iris-setosa\n",
       "4           5.0          3.6           1.4          0.2  Iris-setosa"
      ]
     },
     "execution_count": 6,
     "metadata": {},
     "output_type": "execute_result"
    }
   ],
   "source": [
    "url = \"https://archive.ics.uci.edu/ml/machine-learning-databases/iris/iris.data\"\n",
    "names = ['sepal-length', 'sepal-width', 'petal-length', 'petal-width', 'class']\n",
    "iris = pd.read_csv(url, names=names)\n",
    "iris.head()"
   ]
  },
  {
   "cell_type": "markdown",
   "id": "dc2b9d3a",
   "metadata": {},
   "source": [
    "### Tipos de pruebas"
   ]
  },
  {
   "cell_type": "markdown",
   "id": "b8040017",
   "metadata": {},
   "source": [
    "### a) Distribucion t de Student"
   ]
  },
  {
   "cell_type": "markdown",
   "id": "cbbe503b",
   "metadata": {},
   "source": [
    "#### SE = sigma sobre raiz N"
   ]
  },
  {
   "cell_type": "code",
   "execution_count": 9,
   "id": "8126e4e7",
   "metadata": {},
   "outputs": [],
   "source": [
    "se_length = iris.select_dtypes(include='number').std()['sepal-length']/np.sqrt(10)\n",
    "se_width = iris.select_dtypes(include='number').std()['sepal-width']/np.sqrt(10)"
   ]
  },
  {
   "cell_type": "markdown",
   "id": "b03e3517",
   "metadata": {},
   "source": [
    "#### SED = Estandar error deviation"
   ]
  },
  {
   "cell_type": "code",
   "execution_count": 10,
   "id": "76fa5348",
   "metadata": {},
   "outputs": [],
   "source": [
    "sed = np.sqrt(se_length**2 + se_width**2)"
   ]
  },
  {
   "cell_type": "markdown",
   "id": "3ba30aec",
   "metadata": {},
   "source": [
    "#### Formula del aecucion de t student"
   ]
  },
  {
   "cell_type": "code",
   "execution_count": 12,
   "id": "39288690",
   "metadata": {},
   "outputs": [
    {
     "data": {
      "text/plain": [
       "np.float64(9.436693738890318)"
      ]
     },
     "execution_count": 12,
     "metadata": {},
     "output_type": "execute_result"
    }
   ],
   "source": [
    "t_stat = (iris['sepal-length'].mean() - iris['sepal-width'].mean()) / sed\n",
    "t_stat"
   ]
  },
  {
   "cell_type": "code",
   "execution_count": 15,
   "id": "7262dd5c",
   "metadata": {},
   "outputs": [
    {
     "data": {
      "text/plain": [
       "TtestResult(statistic=np.float64(36.548157693982006), pvalue=np.float64(3.987838114848222e-112), df=np.float64(298.0))"
      ]
     },
     "execution_count": 15,
     "metadata": {},
     "output_type": "execute_result"
    }
   ],
   "source": [
    "p = ttest_ind(iris['sepal-length'], iris['sepal-width'])\n",
    "p"
   ]
  },
  {
   "cell_type": "markdown",
   "id": "c85335f3",
   "metadata": {},
   "source": [
    "### b) Correlacion y coeficiente de Pearson"
   ]
  },
  {
   "cell_type": "code",
   "execution_count": 16,
   "id": "092686da",
   "metadata": {},
   "outputs": [
    {
     "data": {
      "text/plain": [
       "np.float64(-0.10936924995064937)"
      ]
     },
     "execution_count": 16,
     "metadata": {},
     "output_type": "execute_result"
    }
   ],
   "source": [
    "iris['sepal-length'].corr(iris['sepal-width'])"
   ]
  },
  {
   "cell_type": "code",
   "execution_count": 17,
   "id": "628ec9ba",
   "metadata": {},
   "outputs": [
    {
     "data": {
      "text/plain": [
       "PearsonRResult(statistic=np.float64(-0.10936924995064937), pvalue=np.float64(0.18276521527136977))"
      ]
     },
     "execution_count": 17,
     "metadata": {},
     "output_type": "execute_result"
    }
   ],
   "source": [
    "st.pearsonr(iris['sepal-length'], iris['sepal-width'])"
   ]
  },
  {
   "cell_type": "markdown",
   "id": "4753bb67",
   "metadata": {},
   "source": [
    "### c) Analisis de la varianza (ANOVA)"
   ]
  },
  {
   "cell_type": "code",
   "execution_count": 18,
   "id": "2c4a6e3c",
   "metadata": {},
   "outputs": [
    {
     "data": {
      "text/plain": [
       "F_onewayResult(statistic=np.float64(1335.7678308241736), pvalue=np.float64(3.9878381148490526e-112))"
      ]
     },
     "execution_count": 18,
     "metadata": {},
     "output_type": "execute_result"
    }
   ],
   "source": [
    "f_oneway(iris['sepal-length'], iris['sepal-width'])"
   ]
  }
 ],
 "metadata": {
  "kernelspec": {
   "display_name": "CursoEstInfeDataSciIA",
   "language": "python",
   "name": "python3"
  },
  "language_info": {
   "codemirror_mode": {
    "name": "ipython",
    "version": 3
   },
   "file_extension": ".py",
   "mimetype": "text/x-python",
   "name": "python",
   "nbconvert_exporter": "python",
   "pygments_lexer": "ipython3",
   "version": "3.13.5"
  }
 },
 "nbformat": 4,
 "nbformat_minor": 5
}
